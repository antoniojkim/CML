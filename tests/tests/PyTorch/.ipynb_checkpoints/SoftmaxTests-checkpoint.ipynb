{
 "cells": [
  {
   "cell_type": "code",
   "execution_count": 1,
   "metadata": {},
   "outputs": [],
   "source": [
    "import torch\n",
    "import torch.nn.functional as F\n",
    "torch.set_printoptions(precision=10)\n",
    "\n",
    "def make_tensor(s, requires_grad=False, dtype=\"int\"):\n",
    "    return eval(f\"torch.tensor({s.replace('{', '[').replace('}', ']')}, requires_grad={requires_grad}, dtype={dtype})\")\n",
    "\n",
    "def from_tensor(x):\n",
    "    return str(x)[7:-1].replace(\"[\", \"{\").replace(\"]\", \"}\")"
   ]
  },
  {
   "cell_type": "code",
   "execution_count": 2,
   "metadata": {},
   "outputs": [],
   "source": [
    "x = make_tensor(\"{{1, 2}}\", True, \"float\")\n",
    "x.register_hook(lambda grad: print(\"x_grad: \", from_tensor(grad)))\n",
    "z = make_tensor(\"[0]\")"
   ]
  },
  {
   "cell_type": "code",
   "execution_count": 3,
   "metadata": {},
   "outputs": [
    {
     "data": {
      "text/plain": [
       "1.3132616875182228"
      ]
     },
     "execution_count": 3,
     "metadata": {},
     "output_type": "execute_result"
    }
   ],
   "source": [
    "loss = torch.nn.CrossEntropyLoss()(x, z)\n",
    "loss.item()"
   ]
  },
  {
   "cell_type": "code",
   "execution_count": 4,
   "metadata": {},
   "outputs": [],
   "source": [
    "x = make_tensor('''{{0.6157993078, 0.4605995417, 0.2293334901},\n",
    "                    {0.0736566409, 0.8460972309, 0.7150011659}}''', True, \"float\")\n",
    "x.register_hook(lambda grad: print(\"x_grad: \", from_tensor(grad)))\n",
    "z = make_tensor('{1, 1}')"
   ]
  },
  {
   "cell_type": "code",
   "execution_count": 5,
   "metadata": {},
   "outputs": [
    {
     "data": {
      "text/plain": [
       "0.9676999439916079"
      ]
     },
     "execution_count": 5,
     "metadata": {},
     "output_type": "execute_result"
    }
   ],
   "source": [
    "loss = torch.nn.CrossEntropyLoss()(x, z)\n",
    "loss.item()"
   ]
  },
  {
   "cell_type": "code",
   "execution_count": 6,
   "metadata": {},
   "outputs": [
    {
     "name": "stdout",
     "output_type": "stream",
     "text": [
      "x_grad:  {{ 0.1971843602, -0.3311620526,  0.1339776925},\n",
      "        { 0.0987346902, -0.2862350717,  0.1875003816}}, dtype=torch.float64\n"
     ]
    }
   ],
   "source": [
    "loss.backward()"
   ]
  },
  {
   "cell_type": "code",
   "execution_count": null,
   "metadata": {},
   "outputs": [],
   "source": []
  }
 ],
 "metadata": {
  "kernelspec": {
   "display_name": "Python 3",
   "language": "python",
   "name": "python3"
  },
  "language_info": {
   "codemirror_mode": {
    "name": "ipython",
    "version": 3
   },
   "file_extension": ".py",
   "mimetype": "text/x-python",
   "name": "python",
   "nbconvert_exporter": "python",
   "pygments_lexer": "ipython3",
   "version": "3.7.0"
  }
 },
 "nbformat": 4,
 "nbformat_minor": 4
}
