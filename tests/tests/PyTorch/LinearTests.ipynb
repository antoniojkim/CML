{
 "cells": [
  {
   "cell_type": "code",
   "execution_count": 1,
   "metadata": {},
   "outputs": [],
   "source": [
    "import torch\n",
    "import torch.nn.functional as F\n",
    "torch.set_printoptions(precision=10)\n",
    "\n",
    "def make_tensor(s, requires_grad=False, dtype=\"torch.float32\"):\n",
    "    return eval(f\"torch.tensor({s.strip().replace('{', '[').replace('}', ']')}, requires_grad={requires_grad}, dtype={dtype})\")\n",
    "\n",
    "def from_tensor(x):\n",
    "    return str(x)[7:-1].replace(\"[\", \"{\").replace(\"]\", \"}\")"
   ]
  },
  {
   "cell_type": "code",
   "execution_count": 2,
   "metadata": {},
   "outputs": [
    {
     "data": {
      "text/plain": [
       "<torch.utils.hooks.RemovableHandle at 0x7f192453c128>"
      ]
     },
     "execution_count": 2,
     "metadata": {},
     "output_type": "execute_result"
    }
   ],
   "source": [
    "l = torch.nn.Linear(2, 3)\n",
    "\n",
    "l.weight = torch.nn.Parameter(make_tensor('''{{ 0.284576,  0.270818, -0.960440},\n",
    "                                              {-1.163150,  0.014820, -0.673953}}''', True))\n",
    "l.weight.register_hook(lambda grad: print(\"l.weight grad: \", grad))\n",
    "\n",
    "l.bias = torch.nn.Parameter(make_tensor('{{-0.365125,  0.889674}}', True))\n",
    "l.bias.register_hook(lambda grad: print(\"l.bias grad: \", grad))"
   ]
  },
  {
   "cell_type": "code",
   "execution_count": 3,
   "metadata": {},
   "outputs": [],
   "source": [
    "model = torch.nn.Sequential(\n",
    "    l,\n",
    "    torch.nn.Sigmoid()\n",
    ")"
   ]
  },
  {
   "cell_type": "code",
   "execution_count": 4,
   "metadata": {},
   "outputs": [],
   "source": [
    "optimizer = torch.optim.SGD(model.parameters(), lr=0.01)"
   ]
  },
  {
   "cell_type": "code",
   "execution_count": 5,
   "metadata": {},
   "outputs": [
    {
     "data": {
      "text/plain": [
       "<torch.utils.hooks.RemovableHandle at 0x7f192459ceb8>"
      ]
     },
     "execution_count": 5,
     "metadata": {},
     "output_type": "execute_result"
    }
   ],
   "source": [
    "x = make_tensor(\"{{1.0, 2.5, 7.3}}\", True)\n",
    "x.register_hook(lambda grad: print(\"x_grad: \", grad))"
   ]
  },
  {
   "cell_type": "code",
   "execution_count": 6,
   "metadata": {},
   "outputs": [
    {
     "data": {
      "text/plain": [
       "tensor([[0.0016346080, 0.0057300595]], grad_fn=<SigmoidBackward>)"
      ]
     },
     "execution_count": 6,
     "metadata": {},
     "output_type": "execute_result"
    }
   ],
   "source": [
    "y = model(x)\n",
    "y"
   ]
  },
  {
   "cell_type": "code",
   "execution_count": 7,
   "metadata": {},
   "outputs": [],
   "source": [
    "z = make_tensor(\"{{0, 1}}\")"
   ]
  },
  {
   "cell_type": "code",
   "execution_count": 8,
   "metadata": {},
   "outputs": [
    {
     "data": {
      "text/plain": [
       "0.49428772926330566"
      ]
     },
     "execution_count": 8,
     "metadata": {},
     "output_type": "execute_result"
    }
   ],
   "source": [
    "loss = torch.nn.MSELoss()(y, z)\n",
    "loss.item()"
   ]
  },
  {
   "cell_type": "code",
   "execution_count": 9,
   "metadata": {},
   "outputs": [
    {
     "name": "stdout",
     "output_type": "stream",
     "text": [
      "l.bias grad:  tensor([[ 2.6675756999e-06, -5.6645805016e-03]])\n",
      "x_grad:  tensor([[ 6.5895156004e-03, -8.3226652350e-05,  3.8150988985e-03]])\n",
      "l.weight grad:  tensor([[ 2.6675756999e-06,  6.6689390223e-06,  1.9473303837e-05],\n",
      "        [-5.6645805016e-03, -1.4161450788e-02, -4.1351437569e-02]])\n"
     ]
    }
   ],
   "source": [
    "loss.backward()"
   ]
  },
  {
   "cell_type": "code",
   "execution_count": 10,
   "metadata": {},
   "outputs": [],
   "source": [
    "optimizer.step()"
   ]
  },
  {
   "cell_type": "code",
   "execution_count": 11,
   "metadata": {},
   "outputs": [
    {
     "data": {
      "text/plain": [
       "Parameter containing:\n",
       "tensor([[ 0.2845759690,  0.2708179355, -0.9604401588],\n",
       "        [-1.1630933285,  0.0149616143, -0.6735394597]], requires_grad=True)"
      ]
     },
     "execution_count": 11,
     "metadata": {},
     "output_type": "execute_result"
    }
   ],
   "source": [
    "l.weight"
   ]
  },
  {
   "cell_type": "code",
   "execution_count": 12,
   "metadata": {},
   "outputs": [
    {
     "data": {
      "text/plain": [
       "Parameter containing:\n",
       "tensor([[-0.3651250303,  0.8897306323]], requires_grad=True)"
      ]
     },
     "execution_count": 12,
     "metadata": {},
     "output_type": "execute_result"
    }
   ],
   "source": [
    "l.bias"
   ]
  },
  {
   "cell_type": "code",
   "execution_count": 15,
   "metadata": {},
   "outputs": [
    {
     "name": "stdout",
     "output_type": "stream",
     "text": [
      "{{-0.3651250005,  0.8897309899}}, requires_grad=True\n"
     ]
    }
   ],
   "source": [
    "print(from_tensor(torch.tensor([[-0.365125,  0.889731]], requires_grad=True)))"
   ]
  },
  {
   "cell_type": "code",
   "execution_count": null,
   "metadata": {},
   "outputs": [],
   "source": []
  }
 ],
 "metadata": {
  "kernelspec": {
   "display_name": "Python 3",
   "language": "python",
   "name": "python3"
  },
  "language_info": {
   "codemirror_mode": {
    "name": "ipython",
    "version": 3
   },
   "file_extension": ".py",
   "mimetype": "text/x-python",
   "name": "python",
   "nbconvert_exporter": "python",
   "pygments_lexer": "ipython3",
   "version": "3.7.1"
  }
 },
 "nbformat": 4,
 "nbformat_minor": 4
}
