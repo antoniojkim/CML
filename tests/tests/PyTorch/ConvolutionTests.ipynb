{
 "cells": [
  {
   "cell_type": "code",
   "execution_count": 1,
   "metadata": {},
   "outputs": [],
   "source": [
    "import torch\n",
    "import torch.nn.functional as F\n",
    "torch.set_printoptions(precision=10)\n",
    "\n",
    "def make_tensor(s, requires_grad=False, dtype=\"torch.float32\"):\n",
    "    return eval(f\"torch.tensor({s.strip().replace('{', '[').replace('}', ']')}, requires_grad={requires_grad}, dtype={dtype})\")\n",
    "\n",
    "def from_tensor(x):\n",
    "    return str(x)[7:-1].replace(\"[\", \"{\").replace(\"]\", \"}\")"
   ]
  },
  {
   "cell_type": "markdown",
   "metadata": {},
   "source": [
    "### Convolution Test 1"
   ]
  },
  {
   "cell_type": "code",
   "execution_count": 2,
   "metadata": {},
   "outputs": [],
   "source": [
    "cv2 = torch.nn.Conv2d(3, 4, 2)"
   ]
  },
  {
   "cell_type": "code",
   "execution_count": 3,
   "metadata": {},
   "outputs": [
    {
     "data": {
      "text/plain": [
       "<torch.utils.hooks.RemovableHandle at 0x7fabd8456e80>"
      ]
     },
     "execution_count": 3,
     "metadata": {},
     "output_type": "execute_result"
    }
   ],
   "source": [
    "cv2.weight = torch.nn.Parameter(make_tensor('''{{{{-0.2128469944, -0.2116442323},\n",
    "                                                  {-0.0980538577,  0.1841635108}},\n",
    "\n",
    "                                                 {{ 0.1361308396,  0.2344738245},\n",
    "                                                  { 0.0465479195, -0.1771032512}},\n",
    "\n",
    "                                                 {{ 0.0385181606, -0.1699323654},\n",
    "                                                  { 0.2295306325, -0.1966954470}}},\n",
    "\n",
    "\n",
    "                                                {{{ 0.2795472145,  0.2259643078},\n",
    "                                                  { 0.2168567777,  0.1558705270}},\n",
    "\n",
    "                                                 {{-0.1490196586,  0.0373466611},\n",
    "                                                  { 0.0400570929,  0.0593909323}},\n",
    "\n",
    "                                                 {{-0.0951304138,  0.2830602527},\n",
    "                                                  {-0.1026438326, -0.0253164470}}},\n",
    "\n",
    "\n",
    "                                                {{{-0.2283988148, -0.1670298576},\n",
    "                                                  {-0.2377491742,  0.1538172960}},\n",
    "\n",
    "                                                 {{ 0.2755650282,  0.2369828820},\n",
    "                                                  { 0.1343505085,  0.1783807874}},\n",
    "\n",
    "                                                 {{-0.2068789899,  0.2582527995},\n",
    "                                                  { 0.1237063110, -0.1735855490}}},\n",
    "\n",
    "\n",
    "                                                {{{-0.1677439511,  0.0814439058},\n",
    "                                                  {-0.2349391878,  0.2760998011}},\n",
    "\n",
    "                                                 {{ 0.2132624388,  0.1306959093},\n",
    "                                                  {-0.2537234426, -0.0894639492}},\n",
    "\n",
    "                                                 {{-0.1200863719,  0.2372622490},\n",
    "                                                  { 0.1516453922, -0.1889315844}}}}''', True))\n",
    "cv2.weight.register_hook(lambda grad: print(\"cv2.weight grad: \", from_tensor(grad)))"
   ]
  },
  {
   "cell_type": "code",
   "execution_count": 4,
   "metadata": {},
   "outputs": [
    {
     "data": {
      "text/plain": [
       "<torch.utils.hooks.RemovableHandle at 0x7fab49407860>"
      ]
     },
     "execution_count": 4,
     "metadata": {},
     "output_type": "execute_result"
    }
   ],
   "source": [
    "cv2.bias = torch.nn.Parameter(make_tensor('{-0.1039274931, -0.2326363325, -0.0177855194, -0.1824789345}', True))\n",
    "cv2.bias.register_hook(lambda grad: print(\"cv2.bias grad: \", from_tensor(grad)))"
   ]
  },
  {
   "cell_type": "code",
   "execution_count": 5,
   "metadata": {},
   "outputs": [],
   "source": [
    "x = make_tensor('''{{{{ 0.7431939840,  1.5574400425, -1.4349900484},\n",
    "                      { 0.9749389887,  0.4997949898, -0.6531829834},\n",
    "                      { 0.3381200135,  0.2615920007, -1.0640499592}},\n",
    "\n",
    "                     {{ 1.2514699697, -0.6556590199,  0.7488840222},\n",
    "                      { 0.9705640078,  0.4248160124, -0.2654930055},\n",
    "                      { 1.0236999989,  1.0788300037, -0.8307849765}},\n",
    "\n",
    "                     {{ 0.7306740284, -1.1468199492, -1.0085799694},\n",
    "                      {-0.0575066991, -1.0090299845, -1.8340799809},\n",
    "                      {-1.6283700466, -0.7790560126, -0.1317490041}}}}''', True)"
   ]
  },
  {
   "cell_type": "code",
   "execution_count": 9,
   "metadata": {},
   "outputs": [
    {
     "name": "stdout",
     "output_type": "stream",
     "text": [
      "{{{{-0.2004214823,  0.1084852591},\n",
      "          {-0.3651508391,  0.0191579591}},\n",
      "\n",
      "         {{ 0.1068199724, -0.0144078005},\n",
      "          { 0.1499699950, -0.7688546181}},\n",
      "\n",
      "         {{-0.4862182736, -0.1762713194},\n",
      "          { 0.0191186145, -0.5362207890}},\n",
      "\n",
      "         {{-0.5523443818, -0.8924311399},\n",
      "          {-0.7385179400, -1.2254931927}}}},\n",
      "       grad_fn=<MkldnnConvolutionBackward>\n"
     ]
    }
   ],
   "source": [
    "y = cv2(x)\n",
    "print(from_tensor(y))"
   ]
  },
  {
   "cell_type": "code",
   "execution_count": 10,
   "metadata": {},
   "outputs": [
    {
     "data": {
      "text/plain": [
       "torch.Size([1, 4, 2, 2])"
      ]
     },
     "execution_count": 10,
     "metadata": {},
     "output_type": "execute_result"
    }
   ],
   "source": [
    "y.shape"
   ]
  }
 ],
 "metadata": {
  "kernelspec": {
   "display_name": "Python 3",
   "language": "python",
   "name": "python3"
  },
  "language_info": {
   "codemirror_mode": {
    "name": "ipython",
    "version": 3
   },
   "file_extension": ".py",
   "mimetype": "text/x-python",
   "name": "python",
   "nbconvert_exporter": "python",
   "pygments_lexer": "ipython3",
   "version": "3.7.1"
  }
 },
 "nbformat": 4,
 "nbformat_minor": 4
}
